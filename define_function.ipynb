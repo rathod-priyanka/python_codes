{
  "nbformat": 4,
  "nbformat_minor": 0,
  "metadata": {
    "colab": {
      "provenance": [],
      "authorship_tag": "ABX9TyOSBeD3E9qFouCghcBmNylk",
      "include_colab_link": true
    },
    "kernelspec": {
      "name": "python3",
      "display_name": "Python 3"
    },
    "language_info": {
      "name": "python"
    }
  },
  "cells": [
    {
      "cell_type": "markdown",
      "metadata": {
        "id": "view-in-github",
        "colab_type": "text"
      },
      "source": [
        "<a href=\"https://colab.research.google.com/github/rathod-priyanka/python_codes/blob/main/define_function.ipynb\" target=\"_parent\"><img src=\"https://colab.research.google.com/assets/colab-badge.svg\" alt=\"Open In Colab\"/></a>"
      ]
    },
    {
      "cell_type": "code",
      "execution_count": null,
      "metadata": {
        "colab": {
          "base_uri": "https://localhost:8080/"
        },
        "id": "wD-Z9DTrFqOe",
        "outputId": "bc26a2c6-8ebf-41de-bd6d-85985b157487"
      },
      "outputs": [
        {
          "output_type": "stream",
          "name": "stdout",
          "text": [
            "w a s h i n g o n "
          ]
        }
      ],
      "source": [
        "name='washington'\n",
        "\n",
        "for i in name:\n",
        "  if i=='t':\n",
        "    continue\n",
        "  print(i,end=\" \")"
      ]
    },
    {
      "cell_type": "code",
      "source": [
        "for i in range(1,11):\n",
        "  if i==3 or i==6:\n",
        "   continue\n",
        "  print(i,end=\" \")"
      ],
      "metadata": {
        "colab": {
          "base_uri": "https://localhost:8080/"
        },
        "id": "p9leQCHCGVQQ",
        "outputId": "744a07bb-262b-41b3-e816-d1625264a7fc"
      },
      "execution_count": null,
      "outputs": [
        {
          "output_type": "stream",
          "name": "stdout",
          "text": [
            "1 2 4 5 7 8 9 10 "
          ]
        }
      ]
    },
    {
      "cell_type": "code",
      "source": [
        "#define Fubction and calling function\n",
        "\n",
        "def add(a,b):\n",
        "  c=a+b\n",
        "  print(c)"
      ],
      "metadata": {
        "id": "9OtoyAWwHI5v"
      },
      "execution_count": null,
      "outputs": []
    },
    {
      "cell_type": "code",
      "source": [
        "add(15,13)"
      ],
      "metadata": {
        "colab": {
          "base_uri": "https://localhost:8080/"
        },
        "id": "GvYN-wPdHZuX",
        "outputId": "a2f30c3b-e4fa-4cdf-c30a-5eac50788e94"
      },
      "execution_count": null,
      "outputs": [
        {
          "output_type": "stream",
          "name": "stdout",
          "text": [
            "28\n"
          ]
        }
      ]
    },
    {
      "cell_type": "code",
      "source": [
        "def num(len,bread):\n",
        "  area=len+bread\n",
        "  perimeter=2*(len+bread)\n",
        "  print(area,perimeter)"
      ],
      "metadata": {
        "id": "OoUCV2E_HdP3"
      },
      "execution_count": null,
      "outputs": []
    },
    {
      "cell_type": "code",
      "source": [
        "num(5,6)"
      ],
      "metadata": {
        "colab": {
          "base_uri": "https://localhost:8080/"
        },
        "id": "EUZjD5_WHsKH",
        "outputId": "19b33cd4-8ca5-41cc-b485-5f1d5c7f51f8"
      },
      "execution_count": null,
      "outputs": [
        {
          "output_type": "stream",
          "name": "stdout",
          "text": [
            "11 22\n"
          ]
        }
      ]
    },
    {
      "cell_type": "code",
      "source": [
        "def compute(a,b):\n",
        "  g=a+b\n",
        "  c=a-b\n",
        "  e=a*b\n",
        "  f=a/b\n",
        "  print(g,c,e,f)"
      ],
      "metadata": {
        "id": "IasHYIjhIDU3"
      },
      "execution_count": null,
      "outputs": []
    },
    {
      "cell_type": "code",
      "source": [
        "compute(2,4)"
      ],
      "metadata": {
        "colab": {
          "base_uri": "https://localhost:8080/"
        },
        "id": "M5IVaG4iIilG",
        "outputId": "37fe6fe2-6237-4bc2-9dca-f06a4d5f60bf"
      },
      "execution_count": null,
      "outputs": [
        {
          "output_type": "stream",
          "name": "stdout",
          "text": [
            "6 -2 8 0.5\n"
          ]
        }
      ]
    },
    {
      "cell_type": "code",
      "source": [
        "def info(name,age):\n",
        "  print(age)"
      ],
      "metadata": {
        "id": "uXF5yxruI7Vv"
      },
      "execution_count": null,
      "outputs": []
    },
    {
      "cell_type": "code",
      "source": [
        "info('rama',24)"
      ],
      "metadata": {
        "colab": {
          "base_uri": "https://localhost:8080/"
        },
        "id": "KJTPIuHkJM3e",
        "outputId": "be4221d3-5d99-4b3e-f6b5-31984dc688f0"
      },
      "execution_count": null,
      "outputs": [
        {
          "output_type": "stream",
          "name": "stdout",
          "text": [
            "24\n"
          ]
        }
      ]
    },
    {
      "cell_type": "code",
      "source": [
        "def info(name,salary):\n",
        "  print(\"your salary is\",salary)"
      ],
      "metadata": {
        "id": "ZwYi_ANcJdnO"
      },
      "execution_count": null,
      "outputs": []
    },
    {
      "cell_type": "code",
      "source": [
        "info(\"rama\",15000)"
      ],
      "metadata": {
        "colab": {
          "base_uri": "https://localhost:8080/"
        },
        "id": "kQk-YqERJkm2",
        "outputId": "fce2d7fe-1460-4c56-df6e-116e636c20a7"
      },
      "execution_count": null,
      "outputs": [
        {
          "output_type": "stream",
          "name": "stdout",
          "text": [
            "your salary is 15000\n"
          ]
        }
      ]
    },
    {
      "cell_type": "code",
      "source": [
        "def radius(r):\n",
        "  area=3.14*r**2\n",
        "  circumference=2*3.14*r\n",
        "  print(area,circumference)"
      ],
      "metadata": {
        "id": "lTA_15P_Jt7f"
      },
      "execution_count": null,
      "outputs": []
    },
    {
      "cell_type": "code",
      "source": [
        "radius(4)"
      ],
      "metadata": {
        "colab": {
          "base_uri": "https://localhost:8080/"
        },
        "id": "gxRfZsJUKKhO",
        "outputId": "e79ee9f2-27f0-408f-c3ce-908620a5fbf0"
      },
      "execution_count": null,
      "outputs": [
        {
          "output_type": "stream",
          "name": "stdout",
          "text": [
            "50.24 25.12\n"
          ]
        }
      ]
    },
    {
      "cell_type": "code",
      "source": [
        "# adds all the elememt in same group\n",
        "\n",
        "def sum_add(numbers):\n",
        "  sum=0\n",
        "  for i in numbers:\n",
        "    sum=sum+i\n",
        "  print(sum)"
      ],
      "metadata": {
        "id": "_7NjRcFFK48G"
      },
      "execution_count": null,
      "outputs": []
    },
    {
      "cell_type": "code",
      "source": [
        "sum_add((2,3,4,5))"
      ],
      "metadata": {
        "colab": {
          "base_uri": "https://localhost:8080/"
        },
        "id": "JC4NDWk-LgUG",
        "outputId": "030b35b6-d88b-48d8-e6a8-2b3e6ff25707"
      },
      "execution_count": null,
      "outputs": [
        {
          "output_type": "stream",
          "name": "stdout",
          "text": [
            "14\n"
          ]
        }
      ]
    }
  ]
}