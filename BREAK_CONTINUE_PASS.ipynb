for i in range(1,11):
  if i==3:
    continue

  elif i==6:
    continue

  else:
    pass

  print(i)
