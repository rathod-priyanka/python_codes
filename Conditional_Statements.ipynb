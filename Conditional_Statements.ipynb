{
  "nbformat": 4,
  "nbformat_minor": 0,
  "metadata": {
    "colab": {
      "provenance": [],
      "include_colab_link": true
    },
    "kernelspec": {
      "name": "python3",
      "display_name": "Python 3"
    },
    "language_info": {
      "name": "python"
    }
  },
  "cells": [
    {
      "cell_type": "markdown",
      "metadata": {
        "id": "view-in-github",
        "colab_type": "text"
      },
      "source": [
        "<a href=\"https://colab.research.google.com/github/rathod-priyanka/python_codes/blob/main/Conditional_Statements.ipynb\" target=\"_parent\"><img src=\"https://colab.research.google.com/assets/colab-badge.svg\" alt=\"Open In Colab\"/></a>"
      ]
    },
    {
      "cell_type": "markdown",
      "source": [
        "Take three numbers 'x', 'y' and 'z' as input from the user and check which number is greater\n"
      ],
      "metadata": {
        "id": "AcR_27Hh5QTe"
      }
    },
    {
      "cell_type": "code",
      "source": [
        "num1=int(input(\"enter a number\"))\n",
        "num2=int(input(\"enter a number\"))\n",
        "num3=int(input(\"enter a number\"))\n",
        "\n",
        "if (num1 >= num2) and (num1 >= num3):\n",
        "   largest = num1\n",
        "elif (num2 >= num1) and (num2 >= num3):\n",
        "   largest = num2\n",
        "else:\n",
        "   largest = num3\n",
        "\n",
        "print(\"The largest number is\", largest)"
      ],
      "metadata": {
        "id": "ZqmjTxbD5QG4",
        "colab": {
          "base_uri": "https://localhost:8080/"
        },
        "outputId": "bb114a5e-acf6-4838-f296-23e1ccbee2b1"
      },
      "execution_count": null,
      "outputs": [
        {
          "output_type": "stream",
          "name": "stdout",
          "text": [
            "enter a number7\n",
            "enter a number5\n",
            "enter a number2\n",
            "The largest number is 7\n"
          ]
        }
      ]
    },
    {
      "cell_type": "markdown",
      "source": [
        "Take an alphabet as input from the user and check if the alphabet is a vowel, consonant or an exception\n",
        "\n",
        "\n",
        "Vowel - 'a','e','i','o','u'\n",
        "\n",
        "Exception - 'h', 'y'\n",
        "\n",
        "Consonant - rest other alphabets"
      ],
      "metadata": {
        "id": "QgkCsQlx4c5Y"
      }
    },
    {
      "cell_type": "code",
      "source": [
        "alp=input(\"enter an alphabet\")\n",
        "\n",
        "if alp in ('a','e','i','o','u'):\n",
        "  print(\"the alphabet is a vowel\")\n",
        "\n",
        "elif alp=='h' or alp=='y':\n",
        "  print(\"the alphabet is an exception\")\n",
        "\n",
        "else:\n",
        "  print(\"the alphabet is a consonant\")"
      ],
      "metadata": {
        "id": "mTRgMPbt4dTk",
        "colab": {
          "base_uri": "https://localhost:8080/"
        },
        "outputId": "69765899-c7a1-4c57-8284-0fde0e0aabc7"
      },
      "execution_count": null,
      "outputs": [
        {
          "output_type": "stream",
          "name": "stdout",
          "text": [
            "enter an alphabeti\n",
            "the alphabet is a vowel\n"
          ]
        }
      ]
    },
    {
      "cell_type": "markdown",
      "source": [
        "Write a program to check whether a number given by a user is divisible by 2 and 3 both"
      ],
      "metadata": {
        "id": "5TqcIsuG4N4x"
      }
    },
    {
      "cell_type": "code",
      "source": [
        "num=float(input(\"enter a num\"))\n",
        "\n",
        "if num%2==0 and num%3==0:\n",
        "  print(\"divisible by 2 and 3\")\n",
        "\n",
        "else:\n",
        "  print(\"not divisible\")"
      ],
      "metadata": {
        "id": "1TobEmuY4NkT"
      },
      "execution_count": null,
      "outputs": []
    },
    {
      "cell_type": "markdown",
      "source": [
        "Write a program to accept the cost price  of a bike as input and display the road tax to be paid according to the following crieteria :-\n",
        "\n",
        "Cost price - 100000 Tax - 15%\n",
        "\n",
        "Cost price - between 50000 to 100000 Tax - 10%\n",
        "\n",
        "Cost price - less than 50000 Tax - 5%"
      ],
      "metadata": {
        "id": "Vl0l7eM93o-k"
      }
    },
    {
      "cell_type": "code",
      "source": [
        "price=int(input(\"enter cost price of bike\"))\n",
        "tax=0\n",
        "\n",
        "if price>100000:\n",
        "  tax=15/100*price\n",
        "\n",
        "elif price>50000 and price<=100000:\n",
        "  tax=10/100*price\n",
        "\n",
        "else:\n",
        "  tax=5/100*price\n",
        "\n",
        "print(\"Tax to be paid\",tax)"
      ],
      "metadata": {
        "id": "TdHw-M2Z3lkL",
        "colab": {
          "base_uri": "https://localhost:8080/"
        },
        "outputId": "ade7c3bd-02d1-4059-d8c7-1d5246698199"
      },
      "execution_count": null,
      "outputs": [
        {
          "output_type": "stream",
          "name": "stdout",
          "text": [
            "enter cost price of bike200000\n",
            "Tax to be paid 30000.0\n"
          ]
        }
      ]
    },
    {
      "cell_type": "markdown",
      "source": [
        "Write a program to calculate the electricity bill by accepting the number of units consumed by the user as input. Use the following price chart for reference :-\n",
        "\n",
        "Price of first 100 units - no charge\n",
        "\n",
        "Price of next 100 units - Rs 5/- per unit\n",
        "\n",
        "After 200 units - Rs 10/- per unit"
      ],
      "metadata": {
        "id": "4qwB-dyV2vdv"
      }
    },
    {
      "cell_type": "code",
      "execution_count": null,
      "metadata": {
        "id": "9CRK7oBa2rjP",
        "colab": {
          "base_uri": "https://localhost:8080/"
        },
        "outputId": "a38421cc-0cd2-4a8f-ad4e-db12b7164e87"
      },
      "outputs": [
        {
          "output_type": "stream",
          "name": "stdout",
          "text": [
            "enter the number of units consumed225\n",
            "electricity bill is 750\n"
          ]
        }
      ],
      "source": [
        "units=int(input(\"enter the number of units consumed\"))\n",
        "amount=0\n",
        "\n",
        "if units<=100:\n",
        "  print(\"no charge\")\n",
        "\n",
        "elif 200>=units>100:\n",
        "  amount=(units-100)*5\n",
        "  print(\"electricity bill is\",amount)\n",
        "\n",
        "else:\n",
        "  amount=(units-200)*5+(units-100)*5\n",
        "  print(\"electricity bill is\",amount)"
      ]
    }
  ]
}