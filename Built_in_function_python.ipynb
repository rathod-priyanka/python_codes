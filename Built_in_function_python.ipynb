{
  "nbformat": 4,
  "nbformat_minor": 0,
  "metadata": {
    "colab": {
      "provenance": [],
      "authorship_tag": "ABX9TyOLjDXET6FvmUPUbLVzCBtf",
      "include_colab_link": true
    },
    "kernelspec": {
      "name": "python3",
      "display_name": "Python 3"
    },
    "language_info": {
      "name": "python"
    }
  },
  "cells": [
    {
      "cell_type": "markdown",
      "metadata": {
        "id": "view-in-github",
        "colab_type": "text"
      },
      "source": [
        "<a href=\"https://colab.research.google.com/github/rathod-priyanka/python_codes/blob/main/Built_in_function_python.ipynb\" target=\"_parent\"><img src=\"https://colab.research.google.com/assets/colab-badge.svg\" alt=\"Open In Colab\"/></a>"
      ]
    },
    {
      "cell_type": "code",
      "execution_count": 1,
      "metadata": {
        "colab": {
          "base_uri": "https://localhost:8080/"
        },
        "id": "KGfuT-o7gnel",
        "outputId": "4e2af73b-7d26-46d5-8d40-501b9cac9251"
      },
      "outputs": [
        {
          "output_type": "stream",
          "name": "stdout",
          "text": [
            "['ai', 'python', 'nlp', 'cv', 'r', 'machine learning']\n"
          ]
        }
      ],
      "source": [
        "l1=['ai','python','nlp','cv','r']\n",
        "\n",
        "\n",
        "l1.append('machine learning') #will add the element at the end of the list\n",
        "\n",
        "\n",
        "print(l1)"
      ]
    },
    {
      "cell_type": "code",
      "source": [
        "l1.insert(0, 'nlp') #will add the element at the given location [index number]\n",
        "\n",
        "\n",
        "print(l1)"
      ],
      "metadata": {
        "colab": {
          "base_uri": "https://localhost:8080/"
        },
        "id": "KUeTzKpBgxHP",
        "outputId": "4d503845-d256-4a89-c1e8-26100456bf71"
      },
      "execution_count": 2,
      "outputs": [
        {
          "output_type": "stream",
          "name": "stdout",
          "text": [
            "['nlp', 'ai', 'python', 'nlp', 'cv', 'r', 'machine learning']\n"
          ]
        }
      ]
    },
    {
      "cell_type": "code",
      "source": [
        "l1.remove('nlp') #will delete the first occurance of the element"
      ],
      "metadata": {
        "id": "4aUl9YHZg08n"
      },
      "execution_count": 3,
      "outputs": []
    },
    {
      "cell_type": "code",
      "source": [
        "print(l1)\n"
      ],
      "metadata": {
        "colab": {
          "base_uri": "https://localhost:8080/"
        },
        "id": "9ZHWHbfMg3HO",
        "outputId": "cda880d8-4e65-4109-a4f7-b7bc216e4c63"
      },
      "execution_count": 4,
      "outputs": [
        {
          "output_type": "stream",
          "name": "stdout",
          "text": [
            "['ai', 'python', 'nlp', 'cv', 'r', 'machine learning']\n"
          ]
        }
      ]
    },
    {
      "cell_type": "code",
      "source": [
        "l1.pop(4) #will delete the elementof the given index number"
      ],
      "metadata": {
        "colab": {
          "base_uri": "https://localhost:8080/",
          "height": 35
        },
        "id": "UocKL_gFg5i2",
        "outputId": "9dc583b0-9628-4fe6-9739-b032859db414"
      },
      "execution_count": 5,
      "outputs": [
        {
          "output_type": "execute_result",
          "data": {
            "text/plain": [
              "'r'"
            ],
            "application/vnd.google.colaboratory.intrinsic+json": {
              "type": "string"
            }
          },
          "metadata": {},
          "execution_count": 5
        }
      ]
    },
    {
      "cell_type": "code",
      "source": [
        "print(l1)\n"
      ],
      "metadata": {
        "colab": {
          "base_uri": "https://localhost:8080/"
        },
        "id": "L3p2T_F6g-HO",
        "outputId": "1e1697ad-0fff-458e-e5cc-1e431c767bfc"
      },
      "execution_count": 6,
      "outputs": [
        {
          "output_type": "stream",
          "name": "stdout",
          "text": [
            "['ai', 'python', 'nlp', 'cv', 'machine learning']\n"
          ]
        }
      ]
    },
    {
      "cell_type": "code",
      "source": [
        "l1.pop(1)"
      ],
      "metadata": {
        "colab": {
          "base_uri": "https://localhost:8080/",
          "height": 35
        },
        "id": "i8kUWMTZhAPY",
        "outputId": "ae4a6669-636e-4e86-8118-00fe03be9f3a"
      },
      "execution_count": 7,
      "outputs": [
        {
          "output_type": "execute_result",
          "data": {
            "text/plain": [
              "'python'"
            ],
            "application/vnd.google.colaboratory.intrinsic+json": {
              "type": "string"
            }
          },
          "metadata": {},
          "execution_count": 7
        }
      ]
    },
    {
      "cell_type": "code",
      "source": [
        "l1.extend(['deep learning','tableau','statistics']) #will add multiple element at the end of the list(just like append)\n",
        "\n",
        "\n",
        "print(l1)"
      ],
      "metadata": {
        "colab": {
          "base_uri": "https://localhost:8080/"
        },
        "id": "SNNpDRvQhDNO",
        "outputId": "d336c2d4-e47d-41af-d4f8-710e00a66464"
      },
      "execution_count": 8,
      "outputs": [
        {
          "output_type": "stream",
          "name": "stdout",
          "text": [
            "['ai', 'nlp', 'cv', 'machine learning', 'deep learning', 'tableau', 'statistics']\n"
          ]
        }
      ]
    },
    {
      "cell_type": "code",
      "source": [
        "l1.insert(1,['julia','c#','ruby'])\n",
        "\n",
        "\n",
        "print(l1)"
      ],
      "metadata": {
        "colab": {
          "base_uri": "https://localhost:8080/"
        },
        "id": "SgWmiPfFhIBX",
        "outputId": "28a1718e-c0b7-4cf6-be69-61b5c2022a4e"
      },
      "execution_count": 9,
      "outputs": [
        {
          "output_type": "stream",
          "name": "stdout",
          "text": [
            "['ai', ['julia', 'c#', 'ruby'], 'nlp', 'cv', 'machine learning', 'deep learning', 'tableau', 'statistics']\n"
          ]
        }
      ]
    },
    {
      "cell_type": "code",
      "source": [
        "#['c#', 'ruby']"
      ],
      "metadata": {
        "id": "h5DyQl4WhKmu"
      },
      "execution_count": null,
      "outputs": []
    },
    {
      "cell_type": "code",
      "source": [
        "l1[1][1:3]"
      ],
      "metadata": {
        "colab": {
          "base_uri": "https://localhost:8080/"
        },
        "id": "N_2CTDikhMGY",
        "outputId": "3364f547-6a5a-4f38-e445-8db83a41214a"
      },
      "execution_count": 10,
      "outputs": [
        {
          "output_type": "execute_result",
          "data": {
            "text/plain": [
              "['c#', 'ruby']"
            ]
          },
          "metadata": {},
          "execution_count": 10
        }
      ]
    },
    {
      "cell_type": "code",
      "source": [
        "l1[1][1:]"
      ],
      "metadata": {
        "colab": {
          "base_uri": "https://localhost:8080/"
        },
        "id": "mrpXHblshOHX",
        "outputId": "cb150cc7-318e-4667-a6df-2f4bc32b8d5d"
      },
      "execution_count": 11,
      "outputs": [
        {
          "output_type": "execute_result",
          "data": {
            "text/plain": [
              "['c#', 'ruby']"
            ]
          },
          "metadata": {},
          "execution_count": 11
        }
      ]
    },
    {
      "cell_type": "code",
      "source": [
        "l1.pop(1)\n"
      ],
      "metadata": {
        "colab": {
          "base_uri": "https://localhost:8080/"
        },
        "id": "P6kBZnPIhP12",
        "outputId": "5578412b-a2db-487e-cff0-3e1556540045"
      },
      "execution_count": 12,
      "outputs": [
        {
          "output_type": "execute_result",
          "data": {
            "text/plain": [
              "['julia', 'c#', 'ruby']"
            ]
          },
          "metadata": {},
          "execution_count": 12
        }
      ]
    },
    {
      "cell_type": "code",
      "source": [
        "print(l1)\n"
      ],
      "metadata": {
        "colab": {
          "base_uri": "https://localhost:8080/"
        },
        "id": "gev_2WnohRuO",
        "outputId": "b07f037b-631d-435e-bd34-58494d0adfa8"
      },
      "execution_count": 13,
      "outputs": [
        {
          "output_type": "stream",
          "name": "stdout",
          "text": [
            "['ai', 'nlp', 'cv', 'machine learning', 'deep learning', 'tableau', 'statistics']\n"
          ]
        }
      ]
    },
    {
      "cell_type": "code",
      "source": [
        "len(l1) #will show the total number element in the list\n"
      ],
      "metadata": {
        "colab": {
          "base_uri": "https://localhost:8080/"
        },
        "id": "dBeEskCkhTtw",
        "outputId": "03ecc258-41bd-49f4-f052-ea0aedb1aeeb"
      },
      "execution_count": 14,
      "outputs": [
        {
          "output_type": "execute_result",
          "data": {
            "text/plain": [
              "7"
            ]
          },
          "metadata": {},
          "execution_count": 14
        }
      ]
    },
    {
      "cell_type": "code",
      "source": [
        "l2=[3,4,5,2,6,3,9,3,4,2,3,4,2,1,9,8,7,3,5,9]"
      ],
      "metadata": {
        "id": "j1d0_RFZhVlu"
      },
      "execution_count": 15,
      "outputs": []
    },
    {
      "cell_type": "code",
      "source": [
        "max(l2) #will fetch the largest element from list\n"
      ],
      "metadata": {
        "colab": {
          "base_uri": "https://localhost:8080/"
        },
        "id": "tBmPPq-uhYYv",
        "outputId": "711116df-4aff-42ea-e04f-58e1fc07669c"
      },
      "execution_count": 16,
      "outputs": [
        {
          "output_type": "execute_result",
          "data": {
            "text/plain": [
              "9"
            ]
          },
          "metadata": {},
          "execution_count": 16
        }
      ]
    },
    {
      "cell_type": "code",
      "source": [
        "min(l2) #will fetch the smallest element from list\n"
      ],
      "metadata": {
        "colab": {
          "base_uri": "https://localhost:8080/"
        },
        "id": "CXjTDmiLhaf3",
        "outputId": "d628582f-56ef-4dd0-a832-1f89378fe098"
      },
      "execution_count": 17,
      "outputs": [
        {
          "output_type": "execute_result",
          "data": {
            "text/plain": [
              "1"
            ]
          },
          "metadata": {},
          "execution_count": 17
        }
      ]
    },
    {
      "cell_type": "code",
      "source": [
        "len(l2) #will fetch the total number of element from list\n"
      ],
      "metadata": {
        "colab": {
          "base_uri": "https://localhost:8080/"
        },
        "id": "tZhZz9W0hcCn",
        "outputId": "4ad697b1-fda0-427a-89f0-aecf72500b47"
      },
      "execution_count": 18,
      "outputs": [
        {
          "output_type": "execute_result",
          "data": {
            "text/plain": [
              "20"
            ]
          },
          "metadata": {},
          "execution_count": 18
        }
      ]
    },
    {
      "cell_type": "code",
      "source": [
        "l2.count(3) #will count the frequencyof 3 existing in the list\n"
      ],
      "metadata": {
        "colab": {
          "base_uri": "https://localhost:8080/"
        },
        "id": "2lS2cupahd__",
        "outputId": "37b22871-a9db-4ccc-bbd5-13d1c068c8eb"
      },
      "execution_count": 19,
      "outputs": [
        {
          "output_type": "execute_result",
          "data": {
            "text/plain": [
              "5"
            ]
          },
          "metadata": {},
          "execution_count": 19
        }
      ]
    },
    {
      "cell_type": "code",
      "source": [
        "l2.count(9)\n"
      ],
      "metadata": {
        "colab": {
          "base_uri": "https://localhost:8080/"
        },
        "id": "nZACUs2PhfsP",
        "outputId": "78665569-816b-45ce-f702-0bc2cf85a286"
      },
      "execution_count": 20,
      "outputs": [
        {
          "output_type": "execute_result",
          "data": {
            "text/plain": [
              "3"
            ]
          },
          "metadata": {},
          "execution_count": 20
        }
      ]
    },
    {
      "cell_type": "code",
      "source": [
        "l2.count(2)\n"
      ],
      "metadata": {
        "colab": {
          "base_uri": "https://localhost:8080/"
        },
        "id": "2mvqAj7LhhJt",
        "outputId": "9535b31b-fed4-4463-b3d7-22b135d11480"
      },
      "execution_count": 21,
      "outputs": [
        {
          "output_type": "execute_result",
          "data": {
            "text/plain": [
              "3"
            ]
          },
          "metadata": {},
          "execution_count": 21
        }
      ]
    },
    {
      "cell_type": "code",
      "source": [
        "sum(l2) #will add all the element in the list\n"
      ],
      "metadata": {
        "colab": {
          "base_uri": "https://localhost:8080/"
        },
        "id": "HyDeaHYEhi2O",
        "outputId": "5c4e336f-c7e8-4ba5-bb99-a3a7484aa1d3"
      },
      "execution_count": 22,
      "outputs": [
        {
          "output_type": "execute_result",
          "data": {
            "text/plain": [
              "92"
            ]
          },
          "metadata": {},
          "execution_count": 22
        }
      ]
    },
    {
      "cell_type": "markdown",
      "source": [
        "my_list=['varanasi','lucknow','kanpur',['uttar pradesh','madhya pradesh',['delhi','faridabad','noida']]]\n",
        "\n",
        "1.['lucknow','uttar pradesh','madhya pradesh']\n",
        "\n",
        "2.['noida','faridabad','delhi']\n",
        "\n",
        "3.['noida','varanasi']"
      ],
      "metadata": {
        "id": "Jx7SIhybhpc_"
      }
    },
    {
      "cell_type": "code",
      "source": [
        "\n",
        "my_list=['varanasi','lucknow','kanpur',['uttar pradesh','madhya pradesh',['delhi','faridabad','noida']]]\n",
        "\n",
        "\n",
        "a=my_list[1:2]\n",
        "\n",
        "\n",
        "b=my_list[3] [0:2]\n",
        "\n",
        "\n",
        "print(a+b)"
      ],
      "metadata": {
        "colab": {
          "base_uri": "https://localhost:8080/"
        },
        "id": "7G5GyWO-hrU1",
        "outputId": "6d1694ef-06f6-4c56-e3aa-38be1ae4ab51"
      },
      "execution_count": 23,
      "outputs": [
        {
          "output_type": "stream",
          "name": "stdout",
          "text": [
            "['lucknow', 'uttar pradesh', 'madhya pradesh']\n"
          ]
        }
      ]
    },
    {
      "cell_type": "code",
      "source": [
        "my_list[3][2][::-1]"
      ],
      "metadata": {
        "colab": {
          "base_uri": "https://localhost:8080/"
        },
        "id": "G_pGAMkyhvD3",
        "outputId": "7bcad268-7250-4bc9-dbfa-3c5560a773a7"
      },
      "execution_count": 24,
      "outputs": [
        {
          "output_type": "execute_result",
          "data": {
            "text/plain": [
              "['noida', 'faridabad', 'delhi']"
            ]
          },
          "metadata": {},
          "execution_count": 24
        }
      ]
    },
    {
      "cell_type": "code",
      "source": [
        "my_list[-4:-1][::-1]\n"
      ],
      "metadata": {
        "colab": {
          "base_uri": "https://localhost:8080/"
        },
        "id": "pZd58euZhwhe",
        "outputId": "75a719b6-36eb-4859-8e97-edcb2031e2fd"
      },
      "execution_count": 25,
      "outputs": [
        {
          "output_type": "execute_result",
          "data": {
            "text/plain": [
              "['kanpur', 'lucknow', 'varanasi']"
            ]
          },
          "metadata": {},
          "execution_count": 25
        }
      ]
    },
    {
      "cell_type": "code",
      "source": [
        "my_list[0:3][::-1]\n"
      ],
      "metadata": {
        "colab": {
          "base_uri": "https://localhost:8080/"
        },
        "id": "n17veuZ_hyLp",
        "outputId": "2d5188e9-04ff-4439-cc47-5179b770ac01"
      },
      "execution_count": 26,
      "outputs": [
        {
          "output_type": "execute_result",
          "data": {
            "text/plain": [
              "['kanpur', 'lucknow', 'varanasi']"
            ]
          },
          "metadata": {},
          "execution_count": 26
        }
      ]
    },
    {
      "cell_type": "code",
      "source": [
        "\n",
        "a=my_list[3][2][2:3]\n",
        "b=my_list[0:1]\n",
        "\n",
        "\n",
        "print(a+b)\n",
        ""
      ],
      "metadata": {
        "colab": {
          "base_uri": "https://localhost:8080/"
        },
        "id": "WsE5dpbKh1OX",
        "outputId": "6b77ed35-c972-48b1-a183-0b321fb2b02b"
      },
      "execution_count": 27,
      "outputs": [
        {
          "output_type": "stream",
          "name": "stdout",
          "text": [
            "['noida', 'varanasi']\n"
          ]
        }
      ]
    }
  ]
}